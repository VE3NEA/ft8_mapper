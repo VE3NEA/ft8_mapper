{
 "cells": [
  {
   "cell_type": "markdown",
   "id": "80d14af7-5adb-4295-b055-5a51d8aacdfc",
   "metadata": {},
   "source": [
    "# FT8 Mapper\n",
    "\n",
    "### TL;DR:\n",
    "Click on __Restart the kernel then re-run the whole notebook__ on the Jupiter Lab toolobar, then scroll down to the bottom of this page and click on the __Build Map__ button.\n",
    "\n",
    "### Overview\n",
    "\n",
    "This script was inspired by the [presentation of Jose CT1BOH](https://www.contestuniversity.com/wp-content/uploads/2021/05/There-is-Nothing-Magic-About-Propagation-CTU-2021-CT1BOH.pdf) on the use of FT8 spot data for HF propagation nowcasting. It downloads real-time data from different sources and plots them all on the same map. The data include:\n",
    "- FT8 spots from the [PSKReporter web site](https://www.pskreporter.info/pskmap.html),\n",
    "- MUF(3000) map from  [KC2G](https://prop.kc2g.com/) or [IZMIRAN](https://www.izmiran.ru/ionosphere/weather/daily/index.shtml),\n",
    "- auroral oval from [NOAA](https://www.swpc.noaa.gov/products/aurora-30-minute-forecast),\n",
    "- magnetic dip (inclination) from [NOAA](https://www.ngdc.noaa.gov/geomag/calculators/magcalc.shtml#igrfgrid),\n",
    "- gray line (computed).\n",
    "\n",
    "The map is available in the Geographic, Polar and Azimuthal projections.\n",
    "\n",
    "The script is provided as a Jupyter notebook that includes Python code, narrative text and visual output, all in one page. Several sections below contain the code, the last section presents a number of controls that you can use to set the desired map parameters and build the map.\n",
    "\n",
    "## License\n",
    "\n",
    "Copyright © 2021 Alex Shovkoplyas VE3NEA\n",
    "\n",
    "License: [MIT](https://opensource.org/licenses/MIT) (_you can do whatever you want as long as you include the original copyright and license notice_).\n",
    "\n",
    "### Import required packages"
   ]
  },
  {
   "cell_type": "code",
   "execution_count": 1,
   "id": "94948da4-ea62-4384-b495-258eefc0f5fc",
   "metadata": {},
   "outputs": [],
   "source": [
    "import zipfile\n",
    "from datetime import datetime\n",
    "import re\n",
    "from enum import Enum\n",
    "import pylab\n",
    "import cartopy.crs as ccrs\n",
    "from cartopy.feature.nightshade import Nightshade\n",
    "import matplotlib.pyplot as plt\n",
    "import json\n",
    "from IPython.display import clear_output, FileLink, FileLinks\n",
    "from colorama import Fore, Style\n",
    "from io import StringIO\n",
    "\n",
    "import urllib.request as urllib\n",
    "import requests\n",
    "import base64\n",
    "import png\n",
    "import numpy as np\n",
    "import matplotlib\n",
    "import ipywidgets as widgets\n",
    "\n",
    "import cartopy"
   ]
  },
  {
   "cell_type": "markdown",
   "id": "90cbf21d-e9a4-4380-9369-1941b1a13ae7",
   "metadata": {},
   "source": [
    "### Convert grid square to lon/lat"
   ]
  },
  {
   "cell_type": "code",
   "execution_count": 2,
   "id": "572a3154-530e-4285-86b7-375a04d2465b",
   "metadata": {},
   "outputs": [],
   "source": [
    "letters='ABCDEFGHIJKLMNOPQRSTUVWX'\n",
    "digits = '0123456789'\n",
    "letters12 = dict([(letters[i] + letters[j], np.array([i*20.-180, j*10.-90])) for i in range(18) for j in range(18)])\n",
    "digits34  = dict([(digits[i] + digits[j], np.array([2.*i, 1.*j])) for i in range(10) for j in range(10)])\n",
    "letters56 = dict([(letters[i] + letters[j], np.array([2./24*i, 1./24*j])) for i in range(24) for j in range(24)])\n",
    "\n",
    "def square_to_lon_lat(square):\n",
    "    try:\n",
    "        if len(square) == 2: return letters12[square[:2]] + [10, 5] \n",
    "        if len(square) == 4: return letters12[square[:2]] + digits34[square[2:4]] + [1, 0.5] \n",
    "        if len(square) == 6: return letters12[square[:2]] + digits34[square[2:4]] + letters56[square[4:6]] + [1./24, 0.5/24]\n",
    "    except:\n",
    "        return None "
   ]
  },
  {
   "cell_type": "markdown",
   "id": "b62db1d8-feda-4654-93e3-7f3ced1c836e",
   "metadata": {},
   "source": [
    "### Download IZMIRAN MUF map\n",
    "[Source](https://www.izmiran.ru/ionosphere/weather/daily/index.shtml)\n"
   ]
  },
  {
   "cell_type": "code",
   "execution_count": 3,
   "id": "51ab2e84-0786-47c8-b958-e989d7c87fd7",
   "metadata": {},
   "outputs": [],
   "source": [
    "headers = 'START OF foF2 MAP|START OF hmF2 MAP|EPOCH OF CURRENT MAP|LAT/LON1/LON2/DLON'\n",
    "\n",
    "def __get_ionex(url):\n",
    "    data, _ = urllib.urlretrieve(url)\n",
    "    data = zipfile.ZipFile(data, 'r')\n",
    "    data = data.open(data.namelist()[0])                   \n",
    "\n",
    "    data = [line.decode('UTF-8') for line in data]\n",
    "    data = [line for line in data if re.search(headers, line) is None][7:]\n",
    "    data = ''.join(data)\n",
    "    data = np.fromstring(data, dtype='float', sep=' ')   \n",
    "    data.shape = (24, 71, 73)\n",
    "    return data[datetime.utcnow().hour][-1::-1,:]\n",
    "\n",
    "\n",
    "def download_muf_izmiran():\n",
    "    date_string = datetime.utcnow().strftime('%y/%m/%y%m%d')\n",
    "    foF2_url = f'https://www.izmiran.ru/ionosphere/weather/gram/dfc/{date_string}f1.zip'\n",
    "    hmF2_url = f'https://www.izmiran.ru/ionosphere/weather/gram/dhc/{date_string}h1.zip'\n",
    "    \n",
    "    foF2 = __get_ionex(foF2_url) / 10\n",
    "    hmF2 = __get_ionex(hmF2_url)\n",
    "    \n",
    "    return foF2 * 1490 / (hmF2 + 176)"
   ]
  },
  {
   "cell_type": "markdown",
   "id": "4284f782-31d7-4e2f-8353-a733fdd96288",
   "metadata": {},
   "source": [
    "### Download KC2G MUF map\n",
    "[Source](https://prop.kc2g.com/)"
   ]
  },
  {
   "cell_type": "code",
   "execution_count": 4,
   "id": "4e5bc51e-aa69-4ee9-8e87-d6a1cbdbfc0d",
   "metadata": {
    "tags": []
   },
   "outputs": [],
   "source": [
    "MIN_MHZ = 4\n",
    "MAX_MHZ = 35\n",
    "DECIMATION_FACTOR = 4\n",
    "\n",
    "# palette\n",
    "cmap = pylab.cm.get_cmap('viridis', 256)  \n",
    "colors = [cmap(i, alpha=0.35, bytes=True) for i in range(256)]\n",
    "colors = [c[0] + (c[1] << 8) + (c[2] << 16) + (c[3] << 24) for c in colors]\n",
    "color_to_mhz = dict([(colors[i], MIN_MHZ * (MAX_MHZ / MIN_MHZ)**(i/255)) for i in range(256)])\n",
    "\n",
    "def download_muf_kc2g():\n",
    "    # download\n",
    "    url = 'https://prop.kc2g.com/renders/current/mufd-normal-now.svg'\n",
    "    svg = requests.get(url).text\n",
    "\n",
    "    # extract pixels\n",
    "    png_data = re.search('xlink:href=\"data:image/png;base64, ([^\"]+)\"', svg).group(1)\n",
    "    png_data = base64.b64decode(png_data)\n",
    "    _, _, pixel_bytes, _ = png.Reader(bytes=png_data).read()\n",
    "    pixel_bytes = list(pixel_bytes)[::DECIMATION_FACTOR]\n",
    "    rows = [np.frombuffer(row, dtype=np.uint32) for row in pixel_bytes]\n",
    "\n",
    "    # pixels to MHz\n",
    "    return [[color_to_mhz[v] for v in row[::DECIMATION_FACTOR]] for row in rows]"
   ]
  },
  {
   "cell_type": "markdown",
   "id": "89be9443-5677-4e70-95ad-4eebafbd85af",
   "metadata": {
    "tags": []
   },
   "source": [
    "### Download FT8 spots\n",
    "[Source](https://www.pskreporter.info/pskmap.html)"
   ]
  },
  {
   "cell_type": "code",
   "execution_count": 5,
   "id": "d65fbefe-193d-410b-a460-184d732b4664",
   "metadata": {},
   "outputs": [],
   "source": [
    "bands = {    \n",
    "    '5.1': '5000000-6000000', '7': '6000000-8000000', '10': '8000000-12000000', '14': '12000000-16000000', \n",
    "    '18': '16000000-19000000', '21': '19000000-22000000', '24': '22000000-26000000', '28': '27999999-31000000'\n",
    "}\n",
    "\n",
    "def download_ft8(home_square='FN03', mhz='14'):\n",
    "    # download\n",
    "    url = 'https://www.pskreporter.info/cgi-bin/pskquery5.pl?encap=1&callback=doNothing&statistics=1&noactive=1&nolocator=0' \\\n",
    "    f'&flowStartSeconds=-900&frange={bands[mhz]}&mode=FT8&modify=grid&callsign={home_square}'  \n",
    "    \n",
    "    xml_str = requests.get(url, timeout=180).text\n",
    "    with open('./ft8.txt', 'w') as f: f.write(xml_str) # for debugging\n",
    "\n",
    "    # parse json\n",
    "    json_str = re.search('doNothing\\((.+)\\);', xml_str, re.DOTALL)\n",
    "    json_str = json_str.group(1)\n",
    "    json_struct = json.loads(json_str)\n",
    "        \n",
    "    # paths\n",
    "    report = json_struct['receptionReport']\n",
    "    paths = [[r['receiverLocator'][:6].upper(), r['senderLocator'][:6].upper()] for r in report]\n",
    "    paths = np.unique([[min(p), max(p)] for p in paths], axis=0)\n",
    "    paths = np.array([p for p in paths if p[0] != '' and p[1] != ''])\n",
    "    \n",
    "    # reporting stations\n",
    "    ends = np.unique(paths.flatten())\n",
    "    ends.sort()\n",
    "\n",
    "    # non-reporting stations\n",
    "    report = json_struct['activeReceiver']\n",
    "    stations = [r['locator'][:6].upper() for r in report if r['mode'] == 'FT8']\n",
    "    stations.sort()\n",
    "    stations = np.unique(stations)\n",
    "    stations = list(set(stations) - set(ends))\n",
    "\n",
    "    # grid square to lon/lat\n",
    "    paths = [[square_to_lon_lat(p[0]), square_to_lon_lat(p[1])] for p in paths]\n",
    "    ends = [square_to_lon_lat(s) for s in ends]\n",
    "    stations = [square_to_lon_lat(s) for s in stations]\n",
    "\n",
    "    print(f'  paths: {len(paths)},  blue stations: {len(ends)},  gray stations: {len(stations)}')    \n",
    "    return {'paths': paths, 'path_ends': ends, 'stations': stations}"
   ]
  },
  {
   "cell_type": "markdown",
   "id": "7448ee5f-d065-409c-a385-82134baa937c",
   "metadata": {},
   "source": [
    "### Download Aurora map\n",
    "[Source](https://www.swpc.noaa.gov/products/aurora-30-minute-forecast)"
   ]
  },
  {
   "cell_type": "code",
   "execution_count": 6,
   "id": "0e462420-7da5-40f2-9315-57379e36c132",
   "metadata": {
    "tags": []
   },
   "outputs": [],
   "source": [
    "def download_aurora():\n",
    "    url = 'https://services.swpc.noaa.gov/json/ovation_aurora_latest.json'\n",
    "    json_str = requests.get(url).text; \n",
    "    json_struct = json.loads(json_str)\n",
    "    aurora = json_struct['coordinates']\n",
    "    return np.array(aurora)[:,2].reshape(360, 181).T"
   ]
  },
  {
   "cell_type": "markdown",
   "id": "28054a2f-ae79-4fb6-83a2-e0b7113b6ac2",
   "metadata": {},
   "source": [
    "### Load Dip map\n",
    "[Source](https://www.ngdc.noaa.gov/geomag/calculators/magcalc.shtml#igrfgrid)"
   ]
  },
  {
   "cell_type": "code",
   "execution_count": 7,
   "id": "b5473b38-05b2-4f64-afc6-6cf5f3604ee6",
   "metadata": {},
   "outputs": [],
   "source": [
    "def load_dip():\n",
    "    dip_data = np.loadtxt('igrfgridData.csv',delimiter=',')\n",
    "    return np.array(dip_data)[:,4].reshape(180, 361)"
   ]
  },
  {
   "cell_type": "markdown",
   "id": "5eb74d79-31cd-4e88-b046-fc8bc93bd117",
   "metadata": {},
   "source": [
    "### Plot the map"
   ]
  },
  {
   "cell_type": "code",
   "execution_count": 8,
   "id": "c66ada74-d75b-4cd5-a86c-f05c7e478a39",
   "metadata": {},
   "outputs": [],
   "source": [
    "class Projection(Enum):\n",
    "    Geographic = 1\n",
    "    Polar = 2\n",
    "    Azimuthal = 3    \n",
    "\n",
    "def plot_map(muf_data=None, dip_data=None, aurora=None, grayline=False, spot_data=None, mhz=None, projection=Projection.Azimuthal, \n",
    "             home_square=None, time=datetime.utcnow(), all_bands_muf=True):\n",
    "    # projection\n",
    "    geodetic_proj = ccrs.Geodetic()\n",
    "    geographic_proj = ccrs.PlateCarree()\n",
    "    geographic_proj._threshold = 0.1\n",
    "    home = square_to_lon_lat(home_square) if home_square != None else [0, 90]\n",
    "\n",
    "    if projection == Projection.Geographic:\n",
    "        current_proj = geographic_proj \n",
    "    elif projection == Projection.Polar:\n",
    "        current_proj = ccrs.AzimuthalEquidistant(home[0], 90)\n",
    "    else:\n",
    "        current_proj = ccrs.AzimuthalEquidistant(home[0], home[1])\n",
    "        \n",
    "    # base map\n",
    "    fig = plt.figure(figsize=(22, 25))\n",
    "    ax = plt.axes(projection=current_proj)        \n",
    "    ax.set_global()   \n",
    "    ax.coastlines(resolution='110m', alpha=0.9)\n",
    "    ax.add_feature(cartopy.feature.BORDERS, edgecolor='black', linestyle='--', alpha=0.8)\n",
    "    if grayline: ax.add_feature(Nightshade(time), alpha=0.2, color='black', edgecolor='red')\n",
    "\n",
    "    # title\n",
    "    title = time.strftime('%Y-%m-%d %H:%M UTC')\n",
    "    if mhz is not None: title = f'{title}  {mhz} MHz'\n",
    "    if home_square is not None: title = f'{title}  {home_square}'\n",
    "    plt.title(title + '\\n', fontsize=15, pad=0.02)\n",
    "\n",
    "    # MUF\n",
    "    if not muf_data is None:\n",
    "        lons, lats = np.meshgrid(np.linspace(-180, 180, len(muf_data[0])), np.linspace(-90,90, len(muf_data)))\n",
    "        levels = [4,5.3,7,10.1,14,18,21,24.8,28,35] if all_bands_muf else [4, mhz, 35]\n",
    "        # filled countours\n",
    "        contours = plt.contourf(lons, lats, muf_data, levels=levels, transform=geographic_proj, cmap='jet', alpha=0.5)\n",
    "        plt.colorbar(orientation='horizontal', shrink=0.3, pad=0.02).ax.set_xlabel('MUF(3000), MHz')        \n",
    "        # labels\n",
    "        isolines = plt.contour(lons, lats, muf_data, levels=levels, colors=['None'], transform=geographic_proj)\n",
    "        ax.clabel(isolines, colors=['gray'], manual=False, inline=True, fmt=' {:.0f} '.format)\n",
    "\n",
    "    # dip\n",
    "    if not dip_data is None:\n",
    "        lons, lats = np.meshgrid(np.linspace(-180, 180, 361), np.linspace(89,-90, 180))\n",
    "        levels = [-90,-80,-70,-60,-50,-40,-30,-20,-10,0,10,20,30,40,50,60,70,80,90]\n",
    "        # contours\n",
    "        isolines = plt.contour(lons, lats, dip_data, levels=levels, alpha=.5, linewidths=[.5, .5, .5, .5] , colors='#020599', transform=geographic_proj)\n",
    "        # labels\n",
    "        isolines = plt.contour(lons, lats, dip_data, levels=levels, colors=['None'], transform=geographic_proj)\n",
    "        ax.clabel(isolines, colors='grey', manual=False, inline=True, fmt=' {:.0f} '.format)\n",
    "        \n",
    "    # aurora\n",
    "    if aurora is not None:\n",
    "        ax.imshow(aurora, transform=geographic_proj, extent=(0, 360, 90, -90), cmap='Greys', vmin=1, vmax=10)\n",
    "        \n",
    "    # spots\n",
    "    if not spot_data is None:\n",
    "        ax.scatter([s[0] for s in spot_data['stations']], [s[1] for s in spot_data['stations']], s=60, color='silver', edgecolors='gray', transform=geographic_proj, zorder=3)        \n",
    "        for p in spot_data['paths']: plt.plot([p[0][0], p[1][0]], [p[0][1], p[1][1]], color='blue', transform=geodetic_proj, zorder=4)\n",
    "        ax.scatter([s[0] for s in spot_data['path_ends']], [s[1] for s in spot_data['path_ends']], s=60, color='aqua', edgecolors='blue', transform=geographic_proj, zorder=5)\n",
    "\n",
    "    # grid\n",
    "    if home_square is None: \n",
    "        # no home location, plot lat/lon\n",
    "        xlocs=np.linspace(-180,180,19)\n",
    "        ylocs=np.linspace(-90,90,19)\n",
    "        grid = ax.gridlines(color='magenta', alpha=0.7, xlocs=xlocs, ylocs=ylocs)\n",
    "    else:\n",
    "        if projection == Projection.Geographic:\n",
    "            ax2 = fig.add_axes(ax.get_position(), projection=ccrs.RotatedPole(central_rotated_longitude=home[0] + 180, pole_latitude=-home[1]))                    \n",
    "        elif projection == Projection.Polar:\n",
    "            ax2 = fig.add_axes(ax.get_position(), projection=ccrs.AzimuthalEquidistant(0, -home[1]))        \n",
    "        else:\n",
    "            ax2 = fig.add_axes(ax.get_position(), projection=ccrs.AzimuthalEquidistant(0, -90))        \n",
    "        \n",
    "    ax2.set_global()\n",
    "    ax2.patch.set_facecolor('none')\n",
    "    xlocs=np.linspace(-180,180,13)\n",
    "    ylocs=np.linspace(77,-90,7)\n",
    "    grid = ax2.gridlines(color='teal', alpha=0.7, xlocs=xlocs, ylocs=ylocs)\n",
    "    ax.plot(home[0], home[1], marker='*', color='yellow', mec='olive', ms=20, zorder=9, transform=geographic_proj)\n",
    "        \n",
    "    grid.n_steps = 1000\n",
    "    \n",
    "    plt.savefig('map.png')\n",
    "    plt.show()"
   ]
  },
  {
   "cell_type": "markdown",
   "id": "98d9f76a-fb85-49c1-8b91-7b4924c8a534",
   "metadata": {},
   "source": [
    "### User interface"
   ]
  },
  {
   "cell_type": "code",
   "execution_count": 9,
   "id": "a7ebab10-64c9-4ea5-8fa1-0ddeaba1eeea",
   "metadata": {},
   "outputs": [],
   "source": [
    "ui = {}\n",
    "muf_data = None\n",
    "spot_data = None\n",
    "dip_data = None\n",
    "aurora = None"
   ]
  },
  {
   "cell_type": "code",
   "execution_count": 10,
   "id": "f3d2eea4-e37c-4f73-a36b-f6ec08842bbc",
   "metadata": {},
   "outputs": [],
   "source": [
    "def show_widgets():\n",
    "    # widgets\n",
    "    options = [('Geographic', Projection.Geographic), ('Polar', Projection.Polar), ('Azimuthal', Projection.Azimuthal)]\n",
    "    ui['projection'] = widgets.RadioButtons(options=options, value=Projection.Polar, description='Projection:')\n",
    "    ui['mhz'] = widgets.Dropdown(options=['5.3', '7', '10.1', '14', '18', '21', '24.8', '28'], value='14', description='MHz:')\n",
    "    \n",
    "    ui['home_square'] = widgets.Text(value='FN03', description='Square:', placeholder='All squares')\n",
    "    ui['square_valid'] = widgets.Valid(value=True)\n",
    "    ui['square'] = widgets.Box([ui['home_square'], ui['square_valid']])\n",
    "    \n",
    "    ui['show_spots'] = widgets.Checkbox(value=True, description='Show FT8 Spots', indent=False)\n",
    "    ui['show_muf'] = widgets.Checkbox(value=True, description='Show MUF(3000) Map', disabled=False, indent=False)\n",
    "    ui['all_bands_muf'] = widgets.Checkbox(value=True, description='MUF for All Bands', disabled=False, indent=False)\n",
    "    ui['show_aurora'] = widgets.Checkbox(description='Show Aurora', indent=False)\n",
    "    ui['show_dip'] = widgets.Checkbox(description='Show Dip', indent=False)\n",
    "    ui['show_grayline'] = widgets.Checkbox(description='Show Grayline', indent=False)\n",
    "\n",
    "    ui['download_spots'] = widgets.Checkbox(description='Re-download Spot Data', indent=False)\n",
    "    ui['download_aurora'] = widgets.Checkbox(description='Re-download Auroral Data', indent=False)\n",
    "    ui['download_muf'] = widgets.Checkbox(description='Re-download MUF Data', indent=False)\n",
    "    ui['muf_source'] = widgets.RadioButtons(options=['KC2G', 'IZMIRAN'], description='MUF Source:')\n",
    "    ui['button'] = widgets.Button(description='Build Map')\n",
    "\n",
    "    # layout\n",
    "    ui['box1'] = widgets.VBox([ui['projection'], ui['mhz'], ui['square']])\n",
    "    ui['box2']= widgets.VBox([ui['show_spots'], ui['show_muf'], ui['all_bands_muf'], ui['show_dip'], ui['show_aurora'], ui['show_grayline']])\n",
    "    ui['box3'] = widgets.VBox([ui['download_spots'], ui['download_aurora'], ui['download_muf'], ui['muf_source']])\n",
    "\n",
    "    layout = widgets.Layout(height='200px', width='100%', border='1px solid gray')\n",
    "    display(widgets.HBox(children=[ui['box1'], ui['box2'], ui['box3']], layout=layout))\n",
    "    layout = widgets.Layout(height='70px', width='100%', align_items='center')\n",
    "    display(widgets.HBox(children=[ui['button']], layout=layout))\n",
    "                                   \n",
    "    # output\n",
    "    ui['out'] = widgets.Output()\n",
    "    display(ui['out'])\n",
    "\n",
    "    # callbacks\n",
    "    ui['home_square'].observe(on_text_change, names='value')\n",
    "    ui['button'].on_click(on_button_click)\n",
    "    \n",
    "    \n",
    "def download_data():\n",
    "    global muf_data, spot_data, dip_data, aurora\n",
    "    \n",
    "    if ui['download_aurora'].value or (ui['show_aurora'].value and aurora is None): \n",
    "        print('Downloading aurora...')\n",
    "        try:\n",
    "            aurora = download_aurora()    \n",
    "        except: \n",
    "            print(Fore.RED + '  download failed' + Style.RESET_ALL)\n",
    "        \n",
    "    if ui['download_muf'].value or (ui['show_muf'].value and muf_data is None): \n",
    "        print('Downloading muf...')\n",
    "        try:\n",
    "            muf_data = download_muf_kc2g() if ui['muf_source'].value == 'KC2G' else download_muf_izmiran() \n",
    "        except: \n",
    "            print(Fore.RED + '  download failed' + Style.RESET_ALL)\n",
    "\n",
    "    if ui['show_dip'].value and dip_data is None: \n",
    "        print('Loading dip...')\n",
    "        try:\n",
    "            dip_data = load_dip()\n",
    "        except: \n",
    "            print(Fore.RED + '  dip load failed' + Style.RESET_ALL)\n",
    "        \n",
    "    if ui['download_spots'].value or (ui['show_spots'].value and spot_data is None): \n",
    "        print('Downloading spots...')\n",
    "        try: \n",
    "            spot_data = download_ft8(home_square=ui['home_square'].value.upper(), mhz=ui['mhz'].value) \n",
    "        except: \n",
    "            print(Fore.RED + '  download failed' + Style.RESET_ALL)\n",
    "        \n",
    "    ui['download_spots'].value = False\n",
    "    ui['download_muf'].value = False\n",
    "    ui['download_aurora'].value = False        \n",
    "    \n",
    "    \n",
    "def on_text_change(change):\n",
    "    square = change['new'].upper()\n",
    "    if ui['square_valid'] is not None:\n",
    "        ui['square_valid'].value = square == '' or square_to_lon_lat(square) is not None\n",
    "\n",
    "        \n",
    "def on_button_click(button):\n",
    "    with ui['out']:\n",
    "        clear_output(True)\n",
    "        download_data()\n",
    "        \n",
    "        print('Building the map...')\n",
    "\n",
    "        plot_map(\n",
    "            muf_data = muf_data if ui['show_muf'].value else None, \n",
    "            dip_data = dip_data if ui['show_dip'].value else None, \n",
    "            aurora = aurora if ui['show_aurora'].value else None, \n",
    "            spot_data = spot_data if ui['show_spots'].value else None, \n",
    "            grayline = ui['show_grayline'].value, \n",
    "            mhz=ui['mhz'].value,  \n",
    "            projection = ui['projection'].value,\n",
    "            home_square=ui['home_square'].value,\n",
    "            all_bands_muf=ui['all_bands_muf'].value\n",
    "        )"
   ]
  },
  {
   "cell_type": "markdown",
   "id": "17cb0a15-e631-401e-83be-793604e822e0",
   "metadata": {},
   "source": [
    "### Enter the settings and build the map\n",
    "__Note:__ By default, the script downloads every dataset only once. If you change some parameter that affects the data, e.g, select a different band or different MUF source, tick the correspoiding _Re-download_ checkbox before building the map. To keep the map current, re-download all data every 15 minutes.\n",
    "\n",
    "The map will be shown below and saved to the [map.png](./map.png) file."
   ]
  },
  {
   "cell_type": "code",
   "execution_count": 11,
   "id": "a0b3eaad-e930-4bbe-b152-f342b8798fbc",
   "metadata": {
    "tags": []
   },
   "outputs": [
    {
     "data": {
      "application/vnd.jupyter.widget-view+json": {
       "model_id": "235cb16bed1d4767886e236604d1f5f0",
       "version_major": 2,
       "version_minor": 0
      },
      "text/plain": [
       "HBox(children=(VBox(children=(RadioButtons(description='Projection:', index=1, options=(('Geographic', <Projec…"
      ]
     },
     "metadata": {},
     "output_type": "display_data"
    },
    {
     "data": {
      "application/vnd.jupyter.widget-view+json": {
       "model_id": "eab52eb41d6f4779942c45cf89d89ec7",
       "version_major": 2,
       "version_minor": 0
      },
      "text/plain": [
       "HBox(children=(Button(description='Build Map', style=ButtonStyle()),), layout=Layout(align_items='center', hei…"
      ]
     },
     "metadata": {},
     "output_type": "display_data"
    },
    {
     "data": {
      "application/vnd.jupyter.widget-view+json": {
       "model_id": "07a188077a574cfcb7d160a488eaa984",
       "version_major": 2,
       "version_minor": 0
      },
      "text/plain": [
       "Output()"
      ]
     },
     "metadata": {},
     "output_type": "display_data"
    }
   ],
   "source": [
    "show_widgets()"
   ]
  }
 ],
 "metadata": {
  "kernelspec": {
   "display_name": "Python 3",
   "language": "python",
   "name": "python3"
  },
  "language_info": {
   "codemirror_mode": {
    "name": "ipython",
    "version": 3
   },
   "file_extension": ".py",
   "mimetype": "text/x-python",
   "name": "python",
   "nbconvert_exporter": "python",
   "pygments_lexer": "ipython3",
   "version": "3.9.4"
  }
 },
 "nbformat": 4,
 "nbformat_minor": 5
}
